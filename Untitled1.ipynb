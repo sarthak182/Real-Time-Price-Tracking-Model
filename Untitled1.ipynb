{
 "cells": [
  {
   "cell_type": "code",
   "execution_count": 1,
   "id": "78190972-6302-4233-ace9-3fad70558644",
   "metadata": {},
   "outputs": [],
   "source": [
    "from selenium import webdriver\n",
    "from selenium.webdriver.common.by import By\n",
    "from selenium.webdriver.support.ui import WebDriverWait\n",
    "from selenium.webdriver.support import expected_conditions as EC\n",
    "from selenium.webdriver.chrome.service import Service"
   ]
  },
  {
   "cell_type": "code",
   "execution_count": 2,
   "id": "fc5db40e-b38c-4fb9-8a84-b3142c457452",
   "metadata": {},
   "outputs": [],
   "source": [
    "local_file_path = \"file:///C:/Users/sarth/stock1/trial.htm\""
   ]
  },
  {
   "cell_type": "code",
   "execution_count": 3,
   "id": "444a673e-7a31-4515-b1f0-b95c434411d0",
   "metadata": {},
   "outputs": [],
   "source": [
    "# driver = webdriver.Chrome()  # Make sure you have the ChromeDriver in your PATH\n",
    "# driver.get(local_file_path)"
   ]
  },
  {
   "cell_type": "code",
   "execution_count": 4,
   "id": "c252ea9d-1307-4f6b-b6d0-1123e1ceab92",
   "metadata": {},
   "outputs": [],
   "source": [
    "service = Service('C:\\\\Windows\\\\chromedriver.exe')  # Replace with your actual ChromeDriver path\n",
    "driver = webdriver.Chrome(service=service)"
   ]
  },
  {
   "cell_type": "code",
   "execution_count": 5,
   "id": "aff61141-3a25-49ea-abee-4d58dfa7dc42",
   "metadata": {},
   "outputs": [
    {
     "name": "stdout",
     "output_type": "stream",
     "text": [
      "Error: Message: \n",
      "Stacktrace:\n",
      "\tGetHandleVerifier [0x00007FF78B2E80D5+2992373]\n",
      "\t(No symbol) [0x00007FF78AF7BFD0]\n",
      "\t(No symbol) [0x00007FF78AE1590A]\n",
      "\t(No symbol) [0x00007FF78AE6926E]\n",
      "\t(No symbol) [0x00007FF78AE6955C]\n",
      "\t(No symbol) [0x00007FF78AEB27D7]\n",
      "\t(No symbol) [0x00007FF78AE8F3AF]\n",
      "\t(No symbol) [0x00007FF78AEAF584]\n",
      "\t(No symbol) [0x00007FF78AE8F113]\n",
      "\t(No symbol) [0x00007FF78AE5A918]\n",
      "\t(No symbol) [0x00007FF78AE5BA81]\n",
      "\tGetHandleVerifier [0x00007FF78B346A2D+3379789]\n",
      "\tGetHandleVerifier [0x00007FF78B35C32D+3468109]\n",
      "\tGetHandleVerifier [0x00007FF78B350043+3418211]\n",
      "\tGetHandleVerifier [0x00007FF78B0DC78B+847787]\n",
      "\t(No symbol) [0x00007FF78AF8757F]\n",
      "\t(No symbol) [0x00007FF78AF82FC4]\n",
      "\t(No symbol) [0x00007FF78AF8315D]\n",
      "\t(No symbol) [0x00007FF78AF72979]\n",
      "\tBaseThreadInitThunk [0x00007FFF19FA259D+29]\n",
      "\tRtlUserThreadStart [0x00007FFF1BFEAF38+40]\n",
      "\n"
     ]
    }
   ],
   "source": [
    "try:\n",
    "    # Load the HTML file\n",
    "    driver.get(local_file_path)\n",
    "\n",
    "    # Wait for the canvas element to load\n",
    "    canvas = WebDriverWait(driver, 10).until(\n",
    "        EC.presence_of_element_located((By.ID, \"testCanvas\"))\n",
    "    )\n",
    "    print(\"Canvas element found!\")\n",
    "\n",
    "    # Get canvas dimensions\n",
    "    width = canvas.get_attribute(\"width\")\n",
    "    height = canvas.get_attribute(\"height\")\n",
    "    print(f\"Canvas dimensions: {width}x{height}\")\n",
    "\n",
    "    # Extract canvas as a data URL (image data)\n",
    "    canvas_data_url = driver.execute_script(\n",
    "        \"return arguments[0].toDataURL('image/png');\", canvas\n",
    "    )\n",
    "    print(\"Canvas data URL extracted successfully!\")\n",
    "    print(\"Data URL (truncated):\", canvas_data_url[:100], \"...\")  # Print only the first 100 characters\n",
    "\n",
    "    # Save the canvas data URL as a file (optional)\n",
    "    with open(\"canvas_output.png\", \"wb\") as f:\n",
    "        import base64\n",
    "        # Remove the data prefix (e.g., 'data:image/png;base64,')\n",
    "        canvas_data = canvas_data_url.split(\",\")[1]\n",
    "        f.write(base64.b64decode(canvas_data))\n",
    "        print(\"Canvas image saved as 'canvas_output.png'\")\n",
    "\n",
    "except Exception as e:\n",
    "    print(\"Error:\", e)\n",
    "finally:\n",
    "    driver.quit()"
   ]
  },
  {
   "cell_type": "code",
   "execution_count": null,
   "id": "1404c155-1584-4a3f-a9b6-a84f4b546438",
   "metadata": {},
   "outputs": [],
   "source": []
  }
 ],
 "metadata": {
  "kernelspec": {
   "display_name": "Python 3 (ipykernel)",
   "language": "python",
   "name": "python3"
  },
  "language_info": {
   "codemirror_mode": {
    "name": "ipython",
    "version": 3
   },
   "file_extension": ".py",
   "mimetype": "text/x-python",
   "name": "python",
   "nbconvert_exporter": "python",
   "pygments_lexer": "ipython3",
   "version": "3.9.10"
  }
 },
 "nbformat": 4,
 "nbformat_minor": 5
}
