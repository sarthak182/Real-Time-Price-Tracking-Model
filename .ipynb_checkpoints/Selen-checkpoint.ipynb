{
 "cells": [
  {
   "cell_type": "code",
   "execution_count": 1,
   "id": "c786e9fa-6b94-4790-a44b-e3e52c7a8ae9",
   "metadata": {},
   "outputs": [],
   "source": [
    "#pip install selenium\n",
    "#pip install easyocr"
   ]
  },
  {
   "cell_type": "code",
   "execution_count": 2,
   "id": "fdfcb58d-911e-4340-85f9-707f65328069",
   "metadata": {},
   "outputs": [],
   "source": [
    "from selenium import webdriver\n",
    "from selenium.webdriver.chrome.service import Service\n",
    "from selenium.webdriver.common.by import By\n",
    "import base64\n",
    "import smtplib\n",
    "from email.mime.text import MIMEText\n",
    "from email.mime.multipart import MIMEMultipart\n",
    "from selenium import webdriver\n",
    "from selenium.webdriver.common.by import By\n",
    "from selenium.webdriver.support.ui import WebDriverWait\n",
    "from selenium.webdriver.support import expected_conditions as EC\n",
    "import easyocr"
   ]
  },
  {
   "cell_type": "code",
   "execution_count": 3,
   "id": "ad5ac6b1-2ca9-43ba-89ee-71d0d7479400",
   "metadata": {},
   "outputs": [],
   "source": [
    "def send_alert():\n",
    "    sender_email = \"sarthaktiwari1542@gmail.com\"\n",
    "    receiver_email = \"sweet.caliber1542@gmail.com\"\n",
    "    app_password = \"ovxv feex ygrk jwhu\"  # 16-digit app password\n",
    "    subject = \"Automated Email from Python\"\n",
    "    body = \"SMA and Price just intersected\"\n",
    "    msg = MIMEMultipart()\n",
    "    msg[\"From\"] = sender_email\n",
    "    msg[\"To\"] = receiver_email\n",
    "    msg[\"Subject\"] = subject\n",
    "    msg.attach(MIMEText(body, \"plain\"))\n",
    "    with smtplib.SMTP(\"smtp.gmail.com\", 587) as server:\n",
    "        server.starttls()\n",
    "        server.login(sender_email, app_password)\n",
    "        server.sendmail(sender_email, receiver_email, msg.as_string())"
   ]
  },
  {
   "cell_type": "code",
   "execution_count": 4,
   "id": "2cd72326-72d3-4e11-aac9-07220e46c9ce",
   "metadata": {},
   "outputs": [],
   "source": [
    "# Step 1: Set up Selenium WebDriver\n",
    "service = Service('C:\\\\toolbox\\\\ChromeDriver\\\\chromedriver-win64\\\\chromedriver.exe')  # Replace with your actual ChromeDriver path\n",
    "driver = webdriver.Chrome(service=service)"
   ]
  },
  {
   "cell_type": "code",
   "execution_count": 5,
   "id": "3435e223-53ea-4f21-b979-8f15bd6692eb",
   "metadata": {},
   "outputs": [],
   "source": [
    "# Step 2: Open the website\n",
    "ticker = \"motisons-jewellers-ltd\"\n",
    "url1 = f\"https://groww.in/charts/stocks/{ticker}?exchange=NSE\"\n",
    "url2=f\"https://www.google.com/finance/quote/MOTISONS:NSE?hl=en\"\n",
    "driver.get(url1)"
   ]
  },
  {
   "cell_type": "code",
   "execution_count": 12,
   "id": "bb3bc346-6d49-4b1e-9e31-54c1f12685ef",
   "metadata": {},
   "outputs": [
    {
     "name": "stdout",
     "output_type": "stream",
     "text": [
      "Found 5 iframes.\n",
      "✅ Canvas found in iframe 0, screenshot saved.\n"
     ]
    }
   ],
   "source": [
    "WebDriverWait(driver, 10).until(EC.presence_of_all_elements_located((By.TAG_NAME, \"iframe\")))\n",
    "\n",
    "iframes = driver.find_elements(By.TAG_NAME, \"iframe\")\n",
    "print(f\"Found {len(iframes)} iframes.\")\n",
    "\n",
    "canvas_found = False\n",
    "\n",
    "# Try each iframe\n",
    "for idx, iframe in enumerate(iframes):\n",
    "    driver.switch_to.default_content()  # Always reset before switching\n",
    "    driver.switch_to.frame(iframe)\n",
    "    try:\n",
    "        # Wait up to 3 seconds for canvas to appear\n",
    "        canvas = WebDriverWait(driver, 15).until(\n",
    "            EC.presence_of_element_located((By.TAG_NAME, \"canvas\"))\n",
    "        )\n",
    "        canvas.screenshot(f\"canvas_found_in_iframewhat_{idx}.png\")\n",
    "        print(f\"✅ Canvas found in iframe {idx}, screenshot saved.\")\n",
    "        canvas_found = True\n",
    "        break\n",
    "    except:\n",
    "        print(f\"❌ No canvas in iframe {idx}.\")\n",
    "        continue\n",
    "\n",
    "driver.switch_to.default_content()\n",
    "\n",
    "if not canvas_found:\n",
    "    print(\"❗ No canvas element found in any iframe.\")\n",
    "\n",
    "# Close the browser if needed\n",
    "# driver.quit()"
   ]
  },
  {
   "cell_type": "code",
   "execution_count": 15,
   "id": "44aacc0b-4592-4555-ac7f-e352b50d0471",
   "metadata": {},
   "outputs": [
    {
     "name": "stderr",
     "output_type": "stream",
     "text": [
      "Neither CUDA nor MPS are available - defaulting to CPU. Note: This module is much faster with a GPU.\n",
      "C:\\Users\\sarth\\AppData\\Local\\Programs\\Python\\Python312\\Lib\\site-packages\\torch\\utils\\data\\dataloader.py:665: UserWarning: 'pin_memory' argument is set as true but no accelerator is found, then device pinned memory won't be used.\n",
      "  warnings.warn(warn_msg)\n"
     ]
    },
    {
     "name": "stdout",
     "output_type": "stream",
     "text": [
      "['Motisons Jewellers', '5 . NSE 017.07 H17.10 L17.03 C17.10 +0.02 (+0.129)', 'Volume SMA', '75.76K']\n"
     ]
    }
   ],
   "source": [
    "reader = easyocr.Reader(['en'])  # 'en' for English\n",
    "result = reader.readtext('canvas_found_in_iframewhat_0.png')\n",
    "result = [text for _, text, _ in result]\n",
    "\n",
    "print(result)"
   ]
  },
  {
   "cell_type": "code",
   "execution_count": 11,
   "id": "4dd4b121-d5f4-4178-a244-94b57d1ad88a",
   "metadata": {},
   "outputs": [
    {
     "ename": "TypeError",
     "evalue": "unsupported operand type(s) for +: 'NoneType' and 'float'",
     "output_type": "error",
     "traceback": [
      "\u001b[31m---------------------------------------------------------------------------\u001b[39m",
      "\u001b[31mTypeError\u001b[39m                                 Traceback (most recent call last)",
      "\u001b[36mCell\u001b[39m\u001b[36m \u001b[39m\u001b[32mIn[11]\u001b[39m\u001b[32m, line 26\u001b[39m\n\u001b[32m     24\u001b[39m \u001b[38;5;66;03m# Extract values from the string\u001b[39;00m\n\u001b[32m     25\u001b[39m c_value, sma_value = extract_values(extracted_text_str)\n\u001b[32m---> \u001b[39m\u001b[32m26\u001b[39m sum1 = \u001b[38;5;28mround\u001b[39m(\u001b[43mc_value\u001b[49m\u001b[43m \u001b[49m\u001b[43m+\u001b[49m\u001b[43m \u001b[49m\u001b[43msma_value\u001b[49m, \u001b[32m3\u001b[39m)\n\u001b[32m     28\u001b[39m \u001b[38;5;66;03m# Print the extracted values\u001b[39;00m\n\u001b[32m     29\u001b[39m \u001b[38;5;28mprint\u001b[39m(\u001b[33mf\u001b[39m\u001b[33m\"\u001b[39m\u001b[33mC value: \u001b[39m\u001b[38;5;132;01m{\u001b[39;00mc_value\u001b[38;5;132;01m}\u001b[39;00m\u001b[33m\"\u001b[39m)\n",
      "\u001b[31mTypeError\u001b[39m: unsupported operand type(s) for +: 'NoneType' and 'float'"
     ]
    }
   ],
   "source": [
    "import re\n",
    "\n",
    "# Convert the list to a string\n",
    "extracted_text_str = str(extracted_text)\n",
    "\n",
    "# Function to extract value after \"C\" and after \"SMA\"\n",
    "def extract_values(text):\n",
    "    # Extract value after \"C\"\n",
    "    c_value = re.search(r'C([0-9.]+)', text)\n",
    "    \n",
    "    # Extract value after \"SMA\" (look for the number next to \"SMA\" keyword in the list)\n",
    "    sma_value = re.search(r'SMA\\s?([0-9.]+)', text)\n",
    "    \n",
    "    # If \"SMA\" is not directly followed by a value, we will try to extract it from the last element in the list\n",
    "    if not sma_value:\n",
    "        sma_value = re.search(r'([0-9.]+)K', text)\n",
    "    \n",
    "    # Convert to float if the value exists\n",
    "    c_value = float(c_value.group(1)) if c_value else None\n",
    "    sma_value = float(sma_value.group(1)) if sma_value else None\n",
    "\n",
    "    return c_value, sma_value\n",
    "\n",
    "# Extract values from the string\n",
    "c_value, sma_value = extract_values(extracted_text_str)\n",
    "sum1 = round(c_value + sma_value, 3)\n",
    "\n",
    "# Print the extracted values\n",
    "print(f\"C value: {c_value}\")\n",
    "print(f\"SMA value: {sma_value}\")\n",
    "print(f\"Sum to check: {sum1}\")"
   ]
  },
  {
   "cell_type": "code",
   "execution_count": null,
   "id": "cfdf5e62-0d6c-45bf-b38b-53efd0a4a5a0",
   "metadata": {},
   "outputs": [],
   "source": [
    "def cross_check(prev_sma, prev_price, curr_sma, curr_price):\n",
    "    # Check if SMA and Price crossed\n",
    "    if (prev_sma > prev_price and curr_sma <= curr_price) or (prev_sma < prev_price and curr_sma >= curr_price):\n",
    "        print(\"Alert: SMA and Price crossed!\")\n",
    "        send_alert()\n",
    "        return 1\n",
    "    else:\n",
    "        print(\"No crossing detected.\")\n",
    "        return 0"
   ]
  },
  {
   "cell_type": "code",
   "execution_count": null,
   "id": "50522b73-92d9-4528-b59e-283c2a61ca1a",
   "metadata": {},
   "outputs": [],
   "source": [
    "boole=cross_check(sma_value, c_value,79 ,82 )"
   ]
  },
  {
   "cell_type": "code",
   "execution_count": null,
   "id": "d3313a82-3e7e-4fdf-ac4b-c1871df6674e",
   "metadata": {},
   "outputs": [],
   "source": [
    "# while (True):\n",
    "#     if (cross_check(sma_val,c_value,27,19)):\n",
    "#     time.sleep(300) "
   ]
  },
  {
   "cell_type": "code",
   "execution_count": null,
   "id": "a151cfdf-3c63-446a-ab33-f73ee424a291",
   "metadata": {},
   "outputs": [],
   "source": [
    "# Not Important\n",
    "# value_div = driver.find_element(By.CLASS_NAME, \"valueValue-G1_Pfvwd\")\n",
    "# print(driver.page_source)"
   ]
  }
 ],
 "metadata": {
  "kernelspec": {
   "display_name": "Python 3 (ipykernel)",
   "language": "python",
   "name": "python3"
  },
  "language_info": {
   "codemirror_mode": {
    "name": "ipython",
    "version": 3
   },
   "file_extension": ".py",
   "mimetype": "text/x-python",
   "name": "python",
   "nbconvert_exporter": "python",
   "pygments_lexer": "ipython3",
   "version": "3.12.0"
  }
 },
 "nbformat": 4,
 "nbformat_minor": 5
}
